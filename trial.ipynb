{
 "cells": [
  {
   "cell_type": "code",
   "execution_count": null,
   "id": "65749b08",
   "metadata": {},
   "outputs": [],
   "source": [
    "Home page -- https://businesoutloud-production-f617.up.railway.app/\n",
    "news_waiting_page -- https://businesoutloud-production-f617.up.railway.app/news_waiting_page\n",
    "news_page -- https://businesoutloud-production-f617.up.railway.app/news_page\n",
    "magazine_page -- https://businesoutloud-production-f617.up.railway.app/magazine_page\n",
    "magazine_page_read_onlye -- https://businesoutloud-production-f617.up.railway.app/magazine_page_read_only\n",
    "category_homepagee -- https://businesoutloud-production-f617.up.railway.app/category_homepage\n",
    "advertise_with_us -- https://businesoutloud-production-f617.up.railway.app/advertise_with_us\n",
    "JD_page -- https://businesoutloud-production-f617.up.railway.app/JD\n",
    "career_page -- https://businesoutloud-production-f617.up.railway.app/career_page\n"
   ]
  },
  {
   "cell_type": "code",
   "execution_count": null,
   "id": "004590f8",
   "metadata": {},
   "outputs": [],
   "source": [
    "import re\n",
    "\n",
    "def extract_data(marker_text, page_data):\n",
    "    escaped_marker = re.escape(marker_text)\n",
    "    pattern = f\"{escaped_marker}(.*?){escaped_marker}\"\n",
    "    matches = re.findall(pattern, page_data, re.DOTALL)\n",
    "    if matches:\n",
    "        return matches[0]\n",
    "    else:\n",
    "        return None "
   ]
  },
  {
   "cell_type": "code",
   "execution_count": 15,
   "id": "f53b1234",
   "metadata": {},
   "outputs": [
    {
     "name": "stdout",
     "output_type": "stream",
     "text": [
      "Using marker: '<!-- <section_5_image> -->'\n",
      "Constructed pattern: '<!\\-\\-\\ <section_5_image>\\ \\-\\->(.*?)<!\\-\\-\\ <section_5_image>\\ \\-\\->'\n",
      "Matches found: ['\\n              <img \\n                src=\"https://picsum.photos/seed/ailifestyle1/800/450\" \\n                alt=\"Institutional delivery article\" \\n                class=\"w-full h-full object-cover\"\\n              >\\n              ']\n"
     ]
    },
    {
     "data": {
      "text/plain": [
       "'https://picsum.photos/seed/ailifestyle1/800/450'"
      ]
     },
     "execution_count": 15,
     "metadata": {},
     "output_type": "execute_result"
    }
   ],
   "source": [
    "xx = open(\"templates/homepage.html\", encoding=\"utf8\").read()\n",
    "extract_data(\"<!-- <section_5_image> -->\", xx).split('src=\"')[-1].split('\"')[0]"
   ]
  },
  {
   "cell_type": "code",
   "execution_count": null,
   "id": "453c2117",
   "metadata": {},
   "outputs": [],
   "source": [
    "import nest_asyncio\n",
    "nest_asyncio.apply()\n",
    "from static.data.html_templates import HOMEPAGE_TEMPLATE"
   ]
  },
  {
   "cell_type": "code",
   "execution_count": 5,
   "id": "6cb56d5f",
   "metadata": {},
   "outputs": [
    {
     "data": {
      "text/plain": [
       "109"
      ]
     },
     "execution_count": 5,
     "metadata": {},
     "output_type": "execute_result"
    }
   ],
   "source": [
    "len(\"India's government is accusing Pakistan of violating a ceasefire agreement that was reached earlier Saturday.\")"
   ]
  },
  {
   "cell_type": "code",
   "execution_count": 6,
   "id": "0a79489c",
   "metadata": {},
   "outputs": [
    {
     "data": {
      "text/plain": [
       "88"
      ]
     },
     "execution_count": 6,
     "metadata": {},
     "output_type": "execute_result"
    }
   ],
   "source": [
    "len(\"6-Year-Old Horse Dies at Belmont Park After Race Injury 6-Year-Old Horse Dies at Belmont\")"
   ]
  },
  {
   "cell_type": "code",
   "execution_count": null,
   "id": "9189622f",
   "metadata": {},
   "outputs": [],
   "source": []
  }
 ],
 "metadata": {
  "kernelspec": {
   "display_name": "suhas_venv",
   "language": "python",
   "name": "python3"
  },
  "language_info": {
   "codemirror_mode": {
    "name": "ipython",
    "version": 3
   },
   "file_extension": ".py",
   "mimetype": "text/x-python",
   "name": "python",
   "nbconvert_exporter": "python",
   "pygments_lexer": "ipython3",
   "version": "3.13.1"
  }
 },
 "nbformat": 4,
 "nbformat_minor": 5
}
