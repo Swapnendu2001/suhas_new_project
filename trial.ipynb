{
 "cells": [
  {
   "cell_type": "code",
   "execution_count": null,
   "id": "65749b08",
   "metadata": {},
   "outputs": [],
   "source": [
    "Home page -- https://businesoutloud-production-f617.up.railway.app/\n",
    "news_waiting_page -- https://businesoutloud-production-f617.up.railway.app/news_waiting_page\n",
    "news_page -- https://businesoutloud-production-f617.up.railway.app/news_page\n",
    "magazine_page -- https://businesoutloud-production-f617.up.railway.app/magazine_page\n",
    "magazine_page_read_onlye -- https://businesoutloud-production-f617.up.railway.app/magazine_page_read_only\n",
    "category_homepagee -- https://businesoutloud-production-f617.up.railway.app/category_homepage\n",
    "advertise_with_us -- https://businesoutloud-production-f617.up.railway.app/advertise_with_us\n",
    "JD_page -- https://businesoutloud-production-f617.up.railway.app/JD\n",
    "career_page -- https://businesoutloud-production-f617.up.railway.app/career_page\n"
   ]
  },
  {
   "cell_type": "code",
   "execution_count": 1,
   "id": "b904e305",
   "metadata": {},
   "outputs": [
    {
     "data": {
      "text/plain": [
       "{'status': 'success',\n",
       " 'data': [{'name': 'ad_bg - Copy.png',\n",
       "   'size': '904.6 KB',\n",
       "   'id': 'fd37847d-aa56-4426-a173-7d2d6b5f3340',\n",
       "   'public_url': 'https://iwyjssxhrcucnrkzkvmt.supabase.co/storage/v1/object/public/blog-images/ad_bg - Copy.png'},\n",
       "  {'name': 'ad_bg.png',\n",
       "   'size': '904.6 KB',\n",
       "   'id': '6a626d72-4427-4126-986e-73a69d94c46c',\n",
       "   'public_url': 'https://iwyjssxhrcucnrkzkvmt.supabase.co/storage/v1/object/public/blog-images/ad_bg.png'},\n",
       "  {'name': '.emptyFolderPlaceholder',\n",
       "   'size': '0 B',\n",
       "   'id': '29948a0a-14ee-4ed9-ba2b-103efa0307ef',\n",
       "   'public_url': 'https://iwyjssxhrcucnrkzkvmt.supabase.co/storage/v1/object/public/blog-images/.emptyFolderPlaceholder'},\n",
       "  {'name': 'footer1.png',\n",
       "   'size': '4.1 MB',\n",
       "   'id': 'db04f388-24eb-4629-8fb2-7231bce91181',\n",
       "   'public_url': 'https://iwyjssxhrcucnrkzkvmt.supabase.co/storage/v1/object/public/blog-images/footer1.png'},\n",
       "  {'name': 'insta_logo.png',\n",
       "   'size': '11.2 KB',\n",
       "   'id': '292ed763-4f33-4ea4-a2a3-161592cf7ba9',\n",
       "   'public_url': 'https://iwyjssxhrcucnrkzkvmt.supabase.co/storage/v1/object/public/blog-images/insta_logo.png'},\n",
       "  {'name': 'real_business copy.png',\n",
       "   'size': '2.7 MB',\n",
       "   'id': '3c378374-79d1-4852-867c-4e90024464ad',\n",
       "   'public_url': 'https://iwyjssxhrcucnrkzkvmt.supabase.co/storage/v1/object/public/blog-images/real_business copy.png'},\n",
       "  {'name': 'real_business.png',\n",
       "   'size': '2.7 MB',\n",
       "   'id': '71b511e3-52b5-487f-b4e3-7142499452a5',\n",
       "   'public_url': 'https://iwyjssxhrcucnrkzkvmt.supabase.co/storage/v1/object/public/blog-images/real_business.png'}],\n",
       " 'public_url': 'https://iwyjssxhrcucnrkzkvmt.supabase.co/storage/v1/object/public/blog-images/ad_bg - Copy.png?'}"
      ]
     },
     "metadata": {},
     "output_type": "display_data"
    },
    {
     "data": {
      "text/plain": [
       "{'status': 'success',\n",
       " 'message': \"File '.emptyFolderPlaceholder' deleted successfully from blog-images\"}"
      ]
     },
     "metadata": {},
     "output_type": "display_data"
    },
    {
     "data": {
      "text/plain": [
       "{'status': 'success',\n",
       " 'data': [{'name': 'ad_bg - Copy.png',\n",
       "   'size': '904.6 KB',\n",
       "   'id': 'fd37847d-aa56-4426-a173-7d2d6b5f3340',\n",
       "   'public_url': 'https://iwyjssxhrcucnrkzkvmt.supabase.co/storage/v1/object/public/blog-images/ad_bg - Copy.png'},\n",
       "  {'name': 'ad_bg.png',\n",
       "   'size': '904.6 KB',\n",
       "   'id': '6a626d72-4427-4126-986e-73a69d94c46c',\n",
       "   'public_url': 'https://iwyjssxhrcucnrkzkvmt.supabase.co/storage/v1/object/public/blog-images/ad_bg.png'},\n",
       "  {'name': 'footer1.png',\n",
       "   'size': '4.1 MB',\n",
       "   'id': 'db04f388-24eb-4629-8fb2-7231bce91181',\n",
       "   'public_url': 'https://iwyjssxhrcucnrkzkvmt.supabase.co/storage/v1/object/public/blog-images/footer1.png'},\n",
       "  {'name': 'insta_logo.png',\n",
       "   'size': '11.2 KB',\n",
       "   'id': '292ed763-4f33-4ea4-a2a3-161592cf7ba9',\n",
       "   'public_url': 'https://iwyjssxhrcucnrkzkvmt.supabase.co/storage/v1/object/public/blog-images/insta_logo.png'},\n",
       "  {'name': 'real_business copy.png',\n",
       "   'size': '2.7 MB',\n",
       "   'id': '3c378374-79d1-4852-867c-4e90024464ad',\n",
       "   'public_url': 'https://iwyjssxhrcucnrkzkvmt.supabase.co/storage/v1/object/public/blog-images/real_business copy.png'},\n",
       "  {'name': 'real_business.png',\n",
       "   'size': '2.7 MB',\n",
       "   'id': '71b511e3-52b5-487f-b4e3-7142499452a5',\n",
       "   'public_url': 'https://iwyjssxhrcucnrkzkvmt.supabase.co/storage/v1/object/public/blog-images/real_business.png'}],\n",
       " 'public_url': 'https://iwyjssxhrcucnrkzkvmt.supabase.co/storage/v1/object/public/blog-images/ad_bg - Copy.png?'}"
      ]
     },
     "metadata": {},
     "output_type": "display_data"
    }
   ],
   "source": [
    "from static.data.db_handler import *\n",
    "from static.data.global_functions import *\n",
    "\n",
    "bucket_name = 'blog-images'\n",
    "yy = get_file_details_db(bucket_name=bucket_name)\n",
    "display(yy)\n",
    "\n",
    "xx = delete_file_from_storage('.emptyFolderPlaceholder')\n",
    "display(xx)\n",
    "\n",
    "yy = get_file_details_db(bucket_name=bucket_name)\n",
    "display(yy)"
   ]
  },
  {
   "cell_type": "code",
   "execution_count": null,
   "id": "8ef7a44e",
   "metadata": {},
   "outputs": [],
   "source": [
    "import requests\n",
    "from bs4 import BeautifulSoup\n",
    "\n",
    "res = requests.get(\"http://127.0.0.1:5000/blog/innovative_approaches_to_talent_acquisition_&_retention_in_today's_professional_landscape\")\n",
    "soup = BeautifulSoup(res.text, 'html.parser')\n",
    "soup"
   ]
  },
  {
   "cell_type": "code",
   "execution_count": 1,
   "id": "6310718e",
   "metadata": {},
   "outputs": [],
   "source": [
    "from static.data.db_handler import *\n",
    "xx = get_page_data('homepage')"
   ]
  },
  {
   "cell_type": "code",
   "execution_count": 2,
   "id": "14c4c304",
   "metadata": {},
   "outputs": [
    {
     "data": {
      "text/plain": [
       "{'page_id': '97323160-b257-4b70-8daa-223c8bd3579e',\n",
       " 'updated_at': '2025-06-29T17:21:49.838394+00:00',\n",
       " 'page_name': 'homepage',\n",
       " 'page_data': {'page_id': '97323160-b257-4b70-8daa-223c8bd3579e',\n",
       "  'page_data': {'hero_section': {'main_image_url': 'https://picsum.photos/800/600?random=1',\n",
       "    'main_post_date': 'June 29, 2025',\n",
       "    'main_post_title': 'Main Article Title',\n",
       "    'main_post_author': 'Author Name',\n",
       "    'right_panel_post_1_date': 'June 28, 2025',\n",
       "    'right_panel_post_2_date': 'June 27, 2025',\n",
       "    'right_panel_post_3_date': 'June 26, 2025',\n",
       "    'right_panel_post_1_title': 'First Side Article Title',\n",
       "    'right_panel_post_2_title': 'Second Side Article Title',\n",
       "    'right_panel_post_3_title': 'Third Side Article Title',\n",
       "    'right_panel_post_1_author': 'Author Name 1',\n",
       "    'right_panel_post_2_author': 'Author Name 2',\n",
       "    'right_panel_post_3_author': 'Author Name 3',\n",
       "    'right_panel_post_1_image_url': 'https://picsum.photos/400/300?random=2',\n",
       "    'right_panel_post_2_image_url': 'https://picsum.photos/400/300?random=3',\n",
       "    'right_panel_post_3_image_url': 'https://picsum.photos/400/300?random=4'},\n",
       "   'split_section': {'left_section_title': 'Sustainability',\n",
       "    'right_section_title': 'Semiconductors',\n",
       "    'left_section_articles': [{'date': 'June 28, 2025',\n",
       "      'title': 'Green Energy Solutions for the Future',\n",
       "      'author': 'Jane Smith',\n",
       "      'excerpt': 'Exploring innovative renewable energy technologies that are shaping a sustainable tomorrow...',\n",
       "      'image_url': 'https://picsum.photos/350/250?random=15'},\n",
       "     {'date': 'June 27, 2025',\n",
       "      'title': 'Corporate Environmental Responsibility',\n",
       "      'author': 'John Doe',\n",
       "      'excerpt': 'How major corporations are implementing eco-friendly practices to reduce their carbon footprint...',\n",
       "      'image_url': 'https://picsum.photos/350/250?random=16'},\n",
       "     {'date': 'June 26, 2025',\n",
       "      'title': 'Climate Change Impact on Global Markets',\n",
       "      'author': 'Sarah Johnson',\n",
       "      'excerpt': 'Analysis of how environmental changes are affecting international trade and investment strategies...',\n",
       "      'image_url': 'https://picsum.photos/350/250?random=17'}],\n",
       "    'right_section_articles': [{'date': 'June 28, 2025',\n",
       "      'title': 'Next-Gen Chip Manufacturing Breakthroughs',\n",
       "      'author': 'Mike Chen',\n",
       "      'excerpt': 'Revolutionary advances in semiconductor production technology driving the next wave of innovation...',\n",
       "      'image_url': 'https://picsum.photos/350/250?random=18'},\n",
       "     {'date': 'June 27, 2025',\n",
       "      'title': 'Global Chip Supply Chain Recovery',\n",
       "      'author': 'Lisa Wang',\n",
       "      'excerpt': 'How the semiconductor industry is rebuilding resilient supply chains after recent disruptions...',\n",
       "      'image_url': 'https://picsum.photos/350/250?random=19'},\n",
       "     {'date': 'June 26, 2025',\n",
       "      'title': 'AI Chips Powering Machine Learning',\n",
       "      'author': 'David Park',\n",
       "      'excerpt': 'Specialized processors designed for artificial intelligence applications are transforming computing...',\n",
       "      'image_url': 'https://picsum.photos/350/250?random=20'}]},\n",
       "   '1_by_3_section': {'left_section_date': 'June 29, 2025',\n",
       "    'left_section_title': 'Main Featured Article Title',\n",
       "    'left_section_author': 'Author Name',\n",
       "    'right_section_header': 'Latest News',\n",
       "    'left_section_image_url': 'https://picsum.photos/600/400?random=5',\n",
       "    'right_section_articles': [{'date': 'June 28, 2025',\n",
       "      'title': 'First Article Title',\n",
       "      'author': 'Article Author 1',\n",
       "      'excerpt': 'Brief description or excerpt of the first article content...',\n",
       "      'image_url': 'https://picsum.photos/300/200?random=6'},\n",
       "     {'date': 'June 27, 2025',\n",
       "      'title': 'Second Article Title',\n",
       "      'author': 'Article Author 2',\n",
       "      'excerpt': 'Brief description or excerpt of the second article content...',\n",
       "      'image_url': 'https://picsum.photos/300/200?random=7'},\n",
       "     {'date': 'June 26, 2025',\n",
       "      'title': 'Third Article Title',\n",
       "      'author': 'Article Author 3',\n",
       "      'excerpt': 'Brief description or excerpt of the third article content...',\n",
       "      'image_url': 'https://picsum.photos/300/200?random=8'}]},\n",
       "   '1_by_3_section_2': {'left_section_date': 'June 29, 2025',\n",
       "    'left_section_title': 'Main Featured Article Title',\n",
       "    'left_section_author': 'Author Name',\n",
       "    'right_section_header': 'Latest News',\n",
       "    'left_section_image_url': 'https://picsum.photos/600/400?random=11',\n",
       "    'right_section_articles': [{'date': 'June 28, 2025',\n",
       "      'title': 'First Article Title',\n",
       "      'author': 'Article Author 1',\n",
       "      'excerpt': 'Brief description or excerpt of the first article content...',\n",
       "      'image_url': 'https://picsum.photos/300/200?random=12'},\n",
       "     {'date': 'June 27, 2025',\n",
       "      'title': 'Second Article Title',\n",
       "      'author': 'Article Author 2',\n",
       "      'excerpt': 'Brief description or excerpt of the second article content...',\n",
       "      'image_url': 'https://picsum.photos/300/200?random=13'},\n",
       "     {'date': 'June 26, 2025',\n",
       "      'title': 'Third Article Title',\n",
       "      'author': 'Article Author 3',\n",
       "      'excerpt': 'Brief description or excerpt of the third article content...',\n",
       "      'image_url': 'https://picsum.photos/300/200?random=14'}]},\n",
       "   'top_stories_section': {'title': 'Breaking: Major News Story Title Here',\n",
       "    'image_url': 'https://picsum.photos/800/400?random=9',\n",
       "    'description': 'Detailed description or summary of the top story that provides context and key information about the news event...'},\n",
       "   'horizontal_ad_banner': {'href_url': 'https://example.com/ad-link',\n",
       "    'image_url': 'https://picsum.photos/1200/200?random=10'},\n",
       "   'one_by_two_by_six_section': {'side_articles': [{'date': 'June 28, 2025',\n",
       "      'title': 'Deep Learning Models Advance Natural Language Processing',\n",
       "      'author': 'John Smith',\n",
       "      'category': 'Machine Learning',\n",
       "      'image_url': 'https://picsum.photos/300/200?random=22'},\n",
       "     {'date': 'June 27, 2025',\n",
       "      'title': 'Autonomous Systems Reshape Manufacturing Industry',\n",
       "      'author': 'Lisa Wang',\n",
       "      'category': 'Robotics',\n",
       "      'image_url': 'https://picsum.photos/300/200?random=23'}],\n",
       "    'section_header': 'AI',\n",
       "    'small_articles': [{'date': 'June 26, 2025',\n",
       "      'title': 'AI Ethics Guidelines for Responsible Development',\n",
       "      'author': 'Mike Johnson',\n",
       "      'category': 'Ethics',\n",
       "      'image_url': 'https://picsum.photos/200/150?random=24'},\n",
       "     {'date': 'June 25, 2025',\n",
       "      'title': 'Quantum Computing Meets Artificial Intelligence',\n",
       "      'author': 'Emma Brown',\n",
       "      'category': 'Quantum AI',\n",
       "      'image_url': 'https://picsum.photos/200/150?random=25'},\n",
       "     {'date': 'June 24, 2025',\n",
       "      'title': 'AI-Powered Healthcare Diagnostics Breakthrough',\n",
       "      'author': 'Dr. David Lee',\n",
       "      'category': 'Healthcare',\n",
       "      'image_url': 'https://picsum.photos/200/150?random=26'},\n",
       "     {'date': 'June 23, 2025',\n",
       "      'title': 'Voice Recognition Technology Reaches New Heights',\n",
       "      'author': 'Anna Wilson',\n",
       "      'category': 'Speech AI',\n",
       "      'image_url': 'https://picsum.photos/200/150?random=27'},\n",
       "     {'date': 'June 22, 2025',\n",
       "      'title': 'Computer Vision Applications in Smart Cities',\n",
       "      'author': 'Tom Garcia',\n",
       "      'category': 'Computer Vision',\n",
       "      'image_url': 'https://picsum.photos/200/150?random=28'},\n",
       "     {'date': 'June 21, 2025',\n",
       "      'title': 'AI Regulation Framework Proposed by Tech Leaders',\n",
       "      'author': 'Rachel Davis',\n",
       "      'category': 'Policy',\n",
       "      'image_url': 'https://picsum.photos/200/150?random=29'}],\n",
       "    'featured_article': {'date': 'June 29, 2025',\n",
       "     'title': 'Revolutionary AI Breakthrough Changes Everything',\n",
       "     'author': 'Dr. Sarah Chen',\n",
       "     'category': 'Artificial Intelligence',\n",
       "     'image_url': 'https://picsum.photos/500/350?random=21',\n",
       "     'read_time': '5 min read'}},\n",
       "   'one_by_two_by_six_section_2': {'side_articles': [{'date': 'June 28, 2025',\n",
       "      'title': 'Deep Learning Models Advance Natural Language Processing',\n",
       "      'author': 'John Smith',\n",
       "      'category': 'Machine Learning',\n",
       "      'image_url': 'https://picsum.photos/300/200?random=22'},\n",
       "     {'date': 'June 27, 2025',\n",
       "      'title': 'Autonomous Systems Reshape Manufacturing Industry',\n",
       "      'author': 'Lisa Wang',\n",
       "      'category': 'Robotics',\n",
       "      'image_url': 'https://picsum.photos/300/200?random=23'}],\n",
       "    'section_header': 'AI',\n",
       "    'small_articles': [{'date': 'June 26, 2025',\n",
       "      'title': 'AI Ethics Guidelines for Responsible Development',\n",
       "      'author': 'Mike Johnson',\n",
       "      'category': 'Ethics',\n",
       "      'image_url': 'https://picsum.photos/200/150?random=24'},\n",
       "     {'date': 'June 25, 2025',\n",
       "      'title': 'Quantum Computing Meets Artificial Intelligence',\n",
       "      'author': 'Emma Brown',\n",
       "      'category': 'Quantum AI',\n",
       "      'image_url': 'https://picsum.photos/200/150?random=25'},\n",
       "     {'date': 'June 24, 2025',\n",
       "      'title': 'AI-Powered Healthcare Diagnostics Breakthrough',\n",
       "      'author': 'Dr. David Lee',\n",
       "      'category': 'Healthcare',\n",
       "      'image_url': 'https://picsum.photos/200/150?random=26'},\n",
       "     {'date': 'June 23, 2025',\n",
       "      'title': 'Voice Recognition Technology Reaches New Heights',\n",
       "      'author': 'Anna Wilson',\n",
       "      'category': 'Speech AI',\n",
       "      'image_url': 'https://picsum.photos/200/150?random=27'},\n",
       "     {'date': 'June 22, 2025',\n",
       "      'title': 'Computer Vision Applications in Smart Cities',\n",
       "      'author': 'Tom Garcia',\n",
       "      'category': 'Computer Vision',\n",
       "      'image_url': 'https://picsum.photos/200/150?random=28'},\n",
       "     {'date': 'June 21, 2025',\n",
       "      'title': 'AI Regulation Framework Proposed by Tech Leaders',\n",
       "      'author': 'Rachel Davis',\n",
       "      'category': 'Policy',\n",
       "      'image_url': 'https://picsum.photos/200/150?random=29'}],\n",
       "    'featured_article': {'date': 'June 29, 2025',\n",
       "     'title': 'Revolutionary AI Breakthrough Changes Everything',\n",
       "     'author': 'Dr. Sarah Chen',\n",
       "     'category': 'Artificial Intelligence',\n",
       "     'image_url': 'https://picsum.photos/500/350?random=21',\n",
       "     'read_time': '5 min read'}}},\n",
       "  'page_name': 'homepage',\n",
       "  'updated_at': '2025-06-29T17:21:49.838394+00:00'}}"
      ]
     },
     "execution_count": 2,
     "metadata": {},
     "output_type": "execute_result"
    }
   ],
   "source": [
    "xx"
   ]
  },
  {
   "cell_type": "code",
   "execution_count": null,
   "id": "24acb849",
   "metadata": {},
   "outputs": [],
   "source": [
    "\n",
    "with open('temp.json', 'w') as f:\n",
    "    \n",
    "    json.dump(xx, f, indent=4)"
   ]
  },
  {
   "cell_type": "code",
   "execution_count": null,
   "id": "b6caedea",
   "metadata": {},
   "outputs": [],
   "source": [
    "import json\n",
    "dd = json.loads(open('temp.json').read())\n",
    "dd"
   ]
  },
  {
   "cell_type": "code",
   "execution_count": 6,
   "id": "f722c205",
   "metadata": {},
   "outputs": [
    {
     "name": "stdout",
     "output_type": "stream",
     "text": [
      "<header class=\"w-full bg-black relative\">\n",
      "        <!-- Desktop Header -->\n",
      "        <div class=\"hidden\n",
      "<section class=\"w-full py-6 px-4 md:px-8\">\n",
      "        \n",
      "        <div class=\"flex flex-col md:flex-row ga\n",
      "<section class=\"w-full h-auto relative overflow-hidden my-5 md:my-0\"> \n",
      "        <div class=\"absolute \n",
      "<section\n",
      "            class=\"box-border w-full h-[90px] border-y border-black flex items-center overf\n"
     ]
    },
    {
     "ename": "TypeError",
     "evalue": "'NoneType' object is not subscriptable",
     "output_type": "error",
     "traceback": [
      "\u001b[31m---------------------------------------------------------------------------\u001b[39m",
      "\u001b[31mTypeError\u001b[39m                                 Traceback (most recent call last)",
      "\u001b[36mCell\u001b[39m\u001b[36m \u001b[39m\u001b[32mIn[6]\u001b[39m\u001b[32m, line 2\u001b[39m\n\u001b[32m      1\u001b[39m \u001b[38;5;28;01mfor\u001b[39;00m i \u001b[38;5;129;01min\u001b[39;00m dd[\u001b[33m'\u001b[39m\u001b[33mdata\u001b[39m\u001b[33m'\u001b[39m]:\n\u001b[32m----> \u001b[39m\u001b[32m2\u001b[39m     \u001b[38;5;28mprint\u001b[39m(\u001b[43mi\u001b[49m\u001b[43m[\u001b[49m\u001b[43m:\u001b[49m\u001b[32;43m100\u001b[39;49m\u001b[43m]\u001b[49m)\n",
      "\u001b[31mTypeError\u001b[39m: 'NoneType' object is not subscriptable"
     ]
    }
   ],
   "source": [
    "for i in dd['data']:\n",
    "    print(i[:100])"
   ]
  },
  {
   "cell_type": "code",
   "execution_count": 2,
   "id": "ced9d9f8",
   "metadata": {},
   "outputs": [
    {
     "name": "stdout",
     "output_type": "stream",
     "text": [
      "{'title': '\"I Was In The Room\": S Jaishankar Refutes Trump\\'s India-Pak Ceasefire Claims', 'description': 'Foreign Minister S Jaishankar on Monday called the terror attack in Jammu and Kashmir\\'s Pehalgam an \"act of economic warfare\" meant to destroy tourism in Kashmir.', 'link': 'https://www.ndtv.com/world-news/eam-s-jaishankar-refutes-donald-trumps-india-pakistan-ceasefire-claims-i-was-in-the-room-8805736#publisher=newsstand', 'pub_date': '01 Jul 2025', 'media_url': 'https://c.ndtvimg.com/2025-07/snmfnl3k_modi-jaishankar-trump-split-afp-pti-_625x300_01_July_25.jpeg', 'platform': 'NDTV News'}\n",
      "{'title': 'Bryan Kohberger appears to accept plea deal', 'description': 'The suspect accused of killing four University of Idaho students appears to have reached a plea deal with prosecutors which will likely take the death penalty off the table. It comes just weeks ahead of his trial. NBC News’ Stephanie Gosk has the late details.', 'link': 'https://www.nbcnews.com/nightly-news/video/bryan-kohberger-appears-to-accept-plea-deal-242501189720', 'pub_date': '30 Jun 2025', 'media_url': 'https://media-cldnry.s-nbcnews.com/image/upload/t_fit_1500w/mpx/2704722219/2025_06/1751327676076_nn_sgo_kohberger_update_250630_1920x1080-j5zpi3.jpg', 'platform': 'NBC News'}\n",
      "{'title': 'California Rolls Back Its Landmark Environmental Law', 'description': 'Gov. Gavin Newsom and state lawmakers scaled back a law that was vilified for its role in California’s housing shortage and homelessness crisis.', 'link': 'https://www.nytimes.com/2025/06/30/us/california-environment-newsom-ceqa.html', 'pub_date': '01 Jul 2025', 'media_url': 'https://static01.nyt.com/images/2025/06/27/multimedia/00nat-ca-enviro-zcvw/00nat-ca-enviro-zcvw-mediumSquareAt3X.jpg', 'platform': 'New York Times'}\n"
     ]
    },
    {
     "data": {
      "text/plain": [
       "'<article class=\"flex flex-col md:flex-row gap-4 md:w-full border-b border-white/30 pb-3.5\"> \\n                <div class=\"w-full md:w-[289.2px] h-[150px] bg-cover bg-center rounded-[6px] bg-[url(https://c.ndtvimg.com/2025-07/snmfnl3k_modi-jaishankar-trump-split-afp-pti-_625x300_01_July_25.jpeg)] flex-shrink-0\"></div>\\n                <div class=\"flex flex-col justify-center\">\\n                 <div class=\"w-auto md:w-[137.18px] h-[10px] font-jakarta font-medium text-[10px] leading-[1] text-white/60 mb-2\">NDTV News - 01 Jul 2025</div>\\n                 <a href=\"https://www.ndtv.com/world-news/eam-s-jaishankar-refutes-donald-trumps-india-pakistan-ceasefire-claims-i-was-in-the-room-8805736#publisher=newsstand\" class=\"hover:underline\">\\n                     <h3 class=\"w-auto md:w-auto h-auto font-jakarta font-normal text-lg leading-[136.9%] text-white mb-2\">\"I Was In The Room\": S Jaishankar Refutes Trump\\'s India-Pak Ceasefire Claims</h3>\\n                 </a>\\n                 <p class=\"w-auto md:w-auto h-auto font-jakarta font-normal text-xs leading-[123.9%] text-white\">Foreign Minister S Jaishankar on Monday called the terror attack in Jammu and Kashmir\\'s Pehalgam an \"act of ec...</p> \\n                </div>\\n            </article>\\n<article class=\"flex flex-col md:flex-row gap-4 md:w-full border-b border-white/30 pb-3.5\"> \\n                <div class=\"w-full md:w-[289.2px] h-[150px] bg-cover bg-center rounded-[6px] bg-[url(https://media-cldnry.s-nbcnews.com/image/upload/t_fit_1500w/mpx/2704722219/2025_06/1751327676076_nn_sgo_kohberger_update_250630_1920x1080-j5zpi3.jpg)] flex-shrink-0\"></div>\\n                <div class=\"flex flex-col justify-center\">\\n                 <div class=\"w-auto md:w-[137.18px] h-[10px] font-jakarta font-medium text-[10px] leading-[1] text-white/60 mb-2\">NBC News - 30 Jun 2025</div>\\n                 <a href=\"https://www.nbcnews.com/nightly-news/video/bryan-kohberger-appears-to-accept-plea-deal-242501189720\" class=\"hover:underline\">\\n                     <h3 class=\"w-auto md:w-auto h-auto font-jakarta font-normal text-lg leading-[136.9%] text-white mb-2\">Bryan Kohberger appears to accept plea deal</h3>\\n                 </a>\\n                 <p class=\"w-auto md:w-auto h-auto font-jakarta font-normal text-xs leading-[123.9%] text-white\">The suspect accused of killing four University of Idaho students appears to have reached a plea deal with pros...</p> \\n                </div>\\n            </article>\\n<article class=\"flex flex-col md:flex-row gap-4 md:w-full border-b border-white/30 pb-3.5\"> \\n                <div class=\"w-full md:w-[289.2px] h-[150px] bg-cover bg-center rounded-[6px] bg-[url(https://static01.nyt.com/images/2025/06/27/multimedia/00nat-ca-enviro-zcvw/00nat-ca-enviro-zcvw-mediumSquareAt3X.jpg)] flex-shrink-0\"></div>\\n                <div class=\"flex flex-col justify-center\">\\n                 <div class=\"w-auto md:w-[137.18px] h-[10px] font-jakarta font-medium text-[10px] leading-[1] text-white/60 mb-2\">New York Times - 01 Jul 2025</div>\\n                 <a href=\"https://www.nytimes.com/2025/06/30/us/california-environment-newsom-ceqa.html\" class=\"hover:underline\">\\n                     <h3 class=\"w-auto md:w-auto h-auto font-jakarta font-normal text-lg leading-[136.9%] text-white mb-2\">California Rolls Back Its Landmark Environmental Law</h3>\\n                 </a>\\n                 <p class=\"w-auto md:w-auto h-auto font-jakarta font-normal text-xs leading-[123.9%] text-white\">Gov. Gavin Newsom and state lawmakers scaled back a law that was vilified for its role in California’s housing...</p> \\n                </div>\\n            </article>\\n'"
      ]
     },
     "execution_count": 2,
     "metadata": {},
     "output_type": "execute_result"
    }
   ],
   "source": [
    "from static.data.rss import get_trending_news\n",
    "trending_news = await get_trending_news()\n",
    "\n",
    "trending_news"
   ]
  },
  {
   "cell_type": "code",
   "execution_count": null,
   "id": "d8de61f4",
   "metadata": {},
   "outputs": [],
   "source": []
  }
 ],
 "metadata": {
  "kernelspec": {
   "display_name": "venv",
   "language": "python",
   "name": "python3"
  },
  "language_info": {
   "codemirror_mode": {
    "name": "ipython",
    "version": 3
   },
   "file_extension": ".py",
   "mimetype": "text/x-python",
   "name": "python",
   "nbconvert_exporter": "python",
   "pygments_lexer": "ipython3",
   "version": "3.11.9"
  }
 },
 "nbformat": 4,
 "nbformat_minor": 5
}
