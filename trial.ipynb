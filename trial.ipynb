{
 "cells": [
  {
   "cell_type": "code",
   "execution_count": null,
   "id": "65749b08",
   "metadata": {},
   "outputs": [],
   "source": [
    "Home page -- https://businesoutloud-production-f617.up.railway.app/\n",
    "news_waiting_page -- https://businesoutloud-production-f617.up.railway.app/news_waiting_page\n",
    "news_page -- https://businesoutloud-production-f617.up.railway.app/news_page\n",
    "magazine_page -- https://businesoutloud-production-f617.up.railway.app/magazine_page\n",
    "magazine_page_read_onlye -- https://businesoutloud-production-f617.up.railway.app/magazine_page_read_only\n",
    "category_homepagee -- https://businesoutloud-production-f617.up.railway.app/category_homepage\n",
    "advertise_with_us -- https://businesoutloud-production-f617.up.railway.app/advertise_with_us\n",
    "JD_page -- https://businesoutloud-production-f617.up.railway.app/JD\n",
    "career_page -- https://businesoutloud-production-f617.up.railway.app/career_page\n"
   ]
  },
  {
   "cell_type": "code",
   "execution_count": 1,
   "id": "b904e305",
   "metadata": {},
   "outputs": [
    {
     "data": {
      "text/plain": [
       "{'status': 'success',\n",
       " 'data': [{'name': 'ad_bg - Copy.png',\n",
       "   'size': '904.6 KB',\n",
       "   'id': 'fd37847d-aa56-4426-a173-7d2d6b5f3340',\n",
       "   'public_url': 'https://iwyjssxhrcucnrkzkvmt.supabase.co/storage/v1/object/public/blog-images/ad_bg - Copy.png'},\n",
       "  {'name': 'ad_bg.png',\n",
       "   'size': '904.6 KB',\n",
       "   'id': '6a626d72-4427-4126-986e-73a69d94c46c',\n",
       "   'public_url': 'https://iwyjssxhrcucnrkzkvmt.supabase.co/storage/v1/object/public/blog-images/ad_bg.png'},\n",
       "  {'name': '.emptyFolderPlaceholder',\n",
       "   'size': '0 B',\n",
       "   'id': '29948a0a-14ee-4ed9-ba2b-103efa0307ef',\n",
       "   'public_url': 'https://iwyjssxhrcucnrkzkvmt.supabase.co/storage/v1/object/public/blog-images/.emptyFolderPlaceholder'},\n",
       "  {'name': 'footer1.png',\n",
       "   'size': '4.1 MB',\n",
       "   'id': 'db04f388-24eb-4629-8fb2-7231bce91181',\n",
       "   'public_url': 'https://iwyjssxhrcucnrkzkvmt.supabase.co/storage/v1/object/public/blog-images/footer1.png'},\n",
       "  {'name': 'insta_logo.png',\n",
       "   'size': '11.2 KB',\n",
       "   'id': '292ed763-4f33-4ea4-a2a3-161592cf7ba9',\n",
       "   'public_url': 'https://iwyjssxhrcucnrkzkvmt.supabase.co/storage/v1/object/public/blog-images/insta_logo.png'},\n",
       "  {'name': 'real_business copy.png',\n",
       "   'size': '2.7 MB',\n",
       "   'id': '3c378374-79d1-4852-867c-4e90024464ad',\n",
       "   'public_url': 'https://iwyjssxhrcucnrkzkvmt.supabase.co/storage/v1/object/public/blog-images/real_business copy.png'},\n",
       "  {'name': 'real_business.png',\n",
       "   'size': '2.7 MB',\n",
       "   'id': '71b511e3-52b5-487f-b4e3-7142499452a5',\n",
       "   'public_url': 'https://iwyjssxhrcucnrkzkvmt.supabase.co/storage/v1/object/public/blog-images/real_business.png'}],\n",
       " 'public_url': 'https://iwyjssxhrcucnrkzkvmt.supabase.co/storage/v1/object/public/blog-images/ad_bg - Copy.png?'}"
      ]
     },
     "metadata": {},
     "output_type": "display_data"
    },
    {
     "data": {
      "text/plain": [
       "{'status': 'success',\n",
       " 'message': \"File '.emptyFolderPlaceholder' deleted successfully from blog-images\"}"
      ]
     },
     "metadata": {},
     "output_type": "display_data"
    },
    {
     "data": {
      "text/plain": [
       "{'status': 'success',\n",
       " 'data': [{'name': 'ad_bg - Copy.png',\n",
       "   'size': '904.6 KB',\n",
       "   'id': 'fd37847d-aa56-4426-a173-7d2d6b5f3340',\n",
       "   'public_url': 'https://iwyjssxhrcucnrkzkvmt.supabase.co/storage/v1/object/public/blog-images/ad_bg - Copy.png'},\n",
       "  {'name': 'ad_bg.png',\n",
       "   'size': '904.6 KB',\n",
       "   'id': '6a626d72-4427-4126-986e-73a69d94c46c',\n",
       "   'public_url': 'https://iwyjssxhrcucnrkzkvmt.supabase.co/storage/v1/object/public/blog-images/ad_bg.png'},\n",
       "  {'name': 'footer1.png',\n",
       "   'size': '4.1 MB',\n",
       "   'id': 'db04f388-24eb-4629-8fb2-7231bce91181',\n",
       "   'public_url': 'https://iwyjssxhrcucnrkzkvmt.supabase.co/storage/v1/object/public/blog-images/footer1.png'},\n",
       "  {'name': 'insta_logo.png',\n",
       "   'size': '11.2 KB',\n",
       "   'id': '292ed763-4f33-4ea4-a2a3-161592cf7ba9',\n",
       "   'public_url': 'https://iwyjssxhrcucnrkzkvmt.supabase.co/storage/v1/object/public/blog-images/insta_logo.png'},\n",
       "  {'name': 'real_business copy.png',\n",
       "   'size': '2.7 MB',\n",
       "   'id': '3c378374-79d1-4852-867c-4e90024464ad',\n",
       "   'public_url': 'https://iwyjssxhrcucnrkzkvmt.supabase.co/storage/v1/object/public/blog-images/real_business copy.png'},\n",
       "  {'name': 'real_business.png',\n",
       "   'size': '2.7 MB',\n",
       "   'id': '71b511e3-52b5-487f-b4e3-7142499452a5',\n",
       "   'public_url': 'https://iwyjssxhrcucnrkzkvmt.supabase.co/storage/v1/object/public/blog-images/real_business.png'}],\n",
       " 'public_url': 'https://iwyjssxhrcucnrkzkvmt.supabase.co/storage/v1/object/public/blog-images/ad_bg - Copy.png?'}"
      ]
     },
     "metadata": {},
     "output_type": "display_data"
    }
   ],
   "source": [
    "from static.data.db_handler import *\n",
    "from static.data.global_functions import *\n",
    "\n",
    "bucket_name = 'blog-images'\n",
    "yy = get_file_details_db(bucket_name=bucket_name)\n",
    "display(yy)\n",
    "\n",
    "xx = delete_file_from_storage('.emptyFolderPlaceholder')\n",
    "display(xx)\n",
    "\n",
    "yy = get_file_details_db(bucket_name=bucket_name)\n",
    "display(yy)"
   ]
  },
  {
   "cell_type": "code",
   "execution_count": null,
   "id": "8ef7a44e",
   "metadata": {},
   "outputs": [],
   "source": []
  }
 ],
 "metadata": {
  "kernelspec": {
   "display_name": "venv",
   "language": "python",
   "name": "python3"
  },
  "language_info": {
   "codemirror_mode": {
    "name": "ipython",
    "version": 3
   },
   "file_extension": ".py",
   "mimetype": "text/x-python",
   "name": "python",
   "nbconvert_exporter": "python",
   "pygments_lexer": "ipython3",
   "version": "3.11.9"
  }
 },
 "nbformat": 4,
 "nbformat_minor": 5
}
